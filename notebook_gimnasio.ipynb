{
 "cells": [
  {
   "cell_type": "markdown",
   "metadata": {},
   "source": [
    "<div>\n",
    "<img src=\"https://raw.githubusercontent.com/RafaelCaballero/tdm/refs/heads/master/images/mioti.png\" width=600 />\n",
    "</ivdi>\n",
    "<div style=\"background-color: #E9967A; color: black; padding: 10px; border-radius: 5px;\">\n",
    "<h1>Proyecto Final: Estudio sobre la quema de calorías en el gimnasio </h1>\n",
    "</div>"
   ]
  },
  {
   "cell_type": "markdown",
   "metadata": {},
   "source": [
    "# Tabla de contenidos\n",
    "1. [Carga de datos, limpieza y reestructuración](#carga-de-datos,-limpieza-y-reestructuracion)<br>\n",
    "2. [Graficación de las variables de manera individual](#graficacion-de-las-variables-de-manera-individual)<br>\n",
    "3. [Outliers](#outliers)<br>\n",
    "4. [Test estadísticos](#test-estadisticos)<br>\n",
    "5. [Correlaciones entre variables](#correlaciones-entre-variables)<br>\n",
    "6. [Modelo de regresión](#modelo-de-regresion)<br>\n",
    "7. [Conclusiones](#conclusiones)<br>"
   ]
  },
  {
   "cell_type": "markdown",
   "metadata": {},
   "source": [
    "## CARGA DE DATOS, LIMPIEZA Y REESTRUCTURACION"
   ]
  },
  {
   "cell_type": "markdown",
   "metadata": {},
   "source": [
    "Primeramente, leemos los datos del csv."
   ]
  },
  {
   "cell_type": "code",
   "execution_count": null,
   "metadata": {},
   "outputs": [],
   "source": [
    "#Carga de datos\n",
    "import numpy as np\n",
    "import pandas as pd\n",
    "\n",
    "df= pd.read_csv('gym_members_exercise_tracking.csv', sep=',')\n",
    "df.head(10)"
   ]
  },
  {
   "cell_type": "markdown",
   "metadata": {},
   "source": [
    "Eliminamos la columna 'water_intake' ya que no nos interesa."
   ]
  },
  {
   "cell_type": "code",
   "execution_count": null,
   "metadata": {},
   "outputs": [],
   "source": [
    "df= df.drop(columns='Water_Intake (liters)')"
   ]
  },
  {
   "cell_type": "markdown",
   "metadata": {},
   "source": [
    "Obtenemos, con funciones predeterminadas de pandas, algunas estadísticas para ir familiarizándonos con los datos."
   ]
  },
  {
   "cell_type": "code",
   "execution_count": null,
   "metadata": {},
   "outputs": [],
   "source": [
    "df.describe()"
   ]
  },
  {
   "cell_type": "code",
   "execution_count": null,
   "metadata": {},
   "outputs": [],
   "source": [
    "def info_df(df):\n",
    "    return pd.DataFrame({\n",
    "        'Columna': df.columns,\n",
    "        'No Nulos': df.notnull().sum().values,\n",
    "        'Nulos': df.isnull().sum().values,\n",
    "        'Tipo Python': df.dtypes.values,\n",
    "        'Núm. valores': [ df[col].cat.ordered  if isinstance(df[col].dtype, pd.CategoricalDtype) else None\n",
    "            for col in df.columns  ]\n",
    "    })\n",
    "\n",
    "for col in df.columns:\n",
    "    if len(df[col].unique())<10:\n",
    "        print(df[col].value_counts())\n",
    "        print(\"=\"*50)\n",
    "        \n",
    "info_df(df)"
   ]
  },
  {
   "cell_type": "markdown",
   "metadata": {},
   "source": [
    "Convertimos las columnas 'Gender', 'Workout_Type', 'Workout_Frequency' y 'Experience_Level' en variables categóricas:"
   ]
  },
  {
   "cell_type": "code",
   "execution_count": null,
   "metadata": {},
   "outputs": [],
   "source": [
    "from pandas.api.types import CategoricalDtype \n",
    "\n",
    "cat_type=CategoricalDtype(categories=['Male','Female'], ordered=False)\n",
    "df['Gender'] = df['Gender'].astype(cat_type)\n",
    "\n",
    "cat_type = CategoricalDtype(categories=['Strength','Cardio','Yoga','HIIT'], ordered=False) \n",
    "df['Workout_Type'] = df['Workout_Type'].astype(cat_type)\n",
    "\n",
    "df['Workout_Frequency (days/week)']=df['Workout_Frequency (days/week)'].astype(str)\n",
    "cat_type = CategoricalDtype(categories=['2','3','4','5'], ordered=False) \n",
    "df['Workout_Frequency (days/week)'] = df['Workout_Frequency (days/week)'].astype(cat_type)\n",
    "\n",
    "#La columna 'experience_level' la convertimos en palabras y después cambiamos su tipo\n",
    "mapa={1:'Principiante',2:'Intermedio',3:'Avanzado'}\n",
    "df['Experience_Level']=df['Experience_Level'].map(mapa)\n",
    "cat_type=CategoricalDtype(categories=['Principiante','Intermedio','Avanzado'], ordered=False)\n",
    "df['Experience_Level']=df['Experience_Level'].astype(cat_type)\n",
    "\n",
    "info_df(df)"
   ]
  },
  {
   "cell_type": "markdown",
   "metadata": {},
   "source": [
    "## GRAFICACION DE LAS VARIABLES DE MANERA INDIVIDUAL"
   ]
  },
  {
   "cell_type": "markdown",
   "metadata": {},
   "source": [
    "<div style=\"background-color: blue; padding: 10px; border-radius: 5px;\">\n",
    "Ahora pasamos a presentar algunas gráficas  de las variabes de manera individual para entender mejor los datos. No se presentan gráficas de todas las variables por motivo de síntetis.\n",
    "</div>\n",
    "\n",
    "Primero graficamos todos los histogramas de las variables continuas:"
   ]
  },
  {
   "cell_type": "code",
   "execution_count": null,
   "metadata": {},
   "outputs": [],
   "source": [
    "#Histogramas de las variables continuas\n",
    "import matplotlib.pyplot as plt\n",
    "\n",
    "# Columnas a graficar\n",
    "columnas_a_graficar = ['Age', 'Weight (kg)', 'Height (m)','Max_BPM', 'Avg_BPM', 'Session_Duration (hours)','Calories_Burned','Fat_Percentage','BMI']\n",
    "\n",
    "# Crear subgráficos\n",
    "fig, axes = plt.subplots(3, 3, figsize=(12, 8))\n",
    "axes = axes.flatten()\n",
    "\n",
    "for i, col in enumerate(columnas_a_graficar):\n",
    "    ax = axes[i]\n",
    "    df[col].plot(kind='density', ax=ax, color='blue', xlim=(df[col].min(), df[col].max()))\n",
    "    df[col].plot(kind='hist', ax=ax, bins=30, density=True, alpha=0.5, color='orange')\n",
    "    ax.set_title(f'Distribución de {col}')\n",
    "    ax.set_xlabel(col)\n",
    "    ax.set_ylabel('Densidad/Frecuencia')\n",
    "\n",
    "# Ajustar diseño\n",
    "plt.tight_layout()\n",
    "plt.show()\n"
   ]
  },
  {
   "cell_type": "markdown",
   "metadata": {},
   "source": [
    "Comentarios de cada una de las gráficas:\n",
    "- Distribución de Age: se observa una distribución prácticamente uniforme.\n",
    "\n",
    "- Distribución de Weight (kg): se observa una distribucióon normal sesgada a la derecha (positiva). La mayoría de pesos se concentran entre los 60 y los 80 kg.\n",
    "- Distribución de Height (m): se observa una distribución más o menos bimodal, con los picos entorno a 1,63 m y a 1,78 m. Es evidente que estos dos picos se corresponden con las estaturas medias de cada uno de los sexos (Masculino y Femenino).\n",
    "- Distribución de Max_BPM: se observa una distribución uniforme.\n",
    "- Distribución de Avg_BPM: se observa una distribución uniforme,  con un ligero pico (casi despreciable) en torno a los 132 BPM.\n",
    "- Distribución de Session_Duration (hours): se observa una distribución más o menos normal simétrica. No obstante, el extremo derecho tiene una ligera mayor preponderancia.\n",
    "- Distribución de Calories_Burned: se observa una distribución normal sesgada a derecha (positiva). Los valores más comunes son entre 800 y 900.\n",
    "- Distribución de Fat_Percentage: se observa a grandes rasgos una distribución normal sesgada a izquierda (negativa).\n",
    "- Distribución de BMI: se observa una distribución normal sesgada a derecha (positiva). Valores más comunes en torno a 25, como cabría esperar. "
   ]
  },
  {
   "cell_type": "markdown",
   "metadata": {},
   "source": [
    "A continuación, se muestran todos los gráficos de barras agrupados en una imagen por motivos de síntesis. Las variables aquí mostradas son de tipo categórico y nos dan la siguiente información:"
   ]
  },
  {
   "cell_type": "code",
   "execution_count": null,
   "metadata": {},
   "outputs": [],
   "source": [
    "#Todos los gráficos de barras juntos.\n",
    "fig, axes= plt.subplots(2,2,figsize=(20,18))\n",
    "\n",
    "df['Experience_Level'].value_counts().plot(kind='bar',ax=axes[0,0],figsize=(10, 8), color='blue', alpha=0.5, title='Frecuencia de cada nivel de exp.',\n",
    "                                           xlabel='Nivel de experiencia')\n",
    "df['Workout_Type'].value_counts().plot(kind='bar',ax=axes[0,1],figsize=(10, 8), color='orange',alpha=0.5, title='Frecuencia de cada tipo de entrenamiento',\n",
    "                                       xlabel='Tipo de entrenamiento')\n",
    "df['Gender'].value_counts().plot(kind='bar',ax=axes[1,0],figsize=(10, 8), color='orange',alpha=0.5, title='Frecuencia de género',\n",
    "                                 xlabel='Género')\n",
    "df['Workout_Frequency (days/week)'].value_counts().sort_index().plot(kind='bar',ax=axes[1,1],figsize=(10, 8), color='blue', alpha=0.5, title='Frecuencia de entrenamiento', \n",
    "                                                                     xlabel='Días de entrenamiento por semana')\n",
    "axes[0, 0].set_xticklabels(axes[0, 0].get_xticklabels(), rotation=45)\n",
    "axes[0, 1].set_xticklabels(axes[0, 1].get_xticklabels(), rotation=45)\n",
    "axes[1, 0].set_xticklabels(axes[1, 0].get_xticklabels(), rotation=45)\n",
    "axes[1, 1].set_xticklabels(axes[1, 1].get_xticklabels(), rotation=0)\n",
    "plt.tight_layout()\n",
    "plt.show()"
   ]
  },
  {
   "cell_type": "markdown",
   "metadata": {},
   "source": [
    "Comentarios de cada una de las gráficas:\n",
    "- El primer gráfico: nos dice cuántas personas hay en cada uno de los tres niveles de experiencia en el entrenamiento, esto es: principiante, intermedio y avanzado. Se observa cómo hay muchos menos avanzados que principiantes e intermedios.\n",
    "\n",
    "- El segundo gráfico: nos informa del tipo de entrenamiento que realizan las personas. Los 4 tipos están bastante parejos, no obstante, fuerza y cardio son los más preponderantes.\n",
    "- El tercer gráfico: simplemente informa de la cantidad de hombres y de mujeres en la muestra. Se ve que hay más hombres que mujeres. \n",
    "- El cuarto gráfico: detalla los días por semana que entrena cada persona. Se ve que lo más común es entrenar 3 o 4 días por semana. "
   ]
  },
  {
   "cell_type": "markdown",
   "metadata": {},
   "source": [
    "## OUTLIERS"
   ]
  },
  {
   "cell_type": "markdown",
   "metadata": {},
   "source": [
    "<div style=\"background-color: blue; padding: 10px; border-radius: 5px;\">\n",
    "    Una vez que nos hemos hecho a la idea de como se comportan nuestros datos, vamos a detectar los OUTLIERS de cada una de las columnas. Calculamos numéricamente el de todas las \n",
    "    variables puesto que necesitamos conocer bien los datos que usaremos para entrenar nuestro modelo. En adición, representaremos algunas variables con el gráfico de cajas y bigotes. \n",
    "</div>"
   ]
  },
  {
   "cell_type": "markdown",
   "metadata": {},
   "source": [
    "El método elegido para calcular los outliers es *Hampel X84* que utiliza la mediana y la MAD (Mean Absolute Deviation). Se considerarán outliers los puntos alejados más de $1.4826 \\times \\theta\\times MAD$ de la mediana. Fijamos arbitrariamente el valor de $\\theta=3$."
   ]
  },
  {
   "cell_type": "code",
   "execution_count": null,
   "metadata": {},
   "outputs": [],
   "source": [
    "from scipy.stats import median_abs_deviation\n",
    "\n",
    "for col in columnas_a_graficar:\n",
    "    columna = df[col]\n",
    "    mediana = columna.median()\n",
    "    MAD = median_abs_deviation(columna)\n",
    "    inferior = mediana -  1.4826*3*MAD\n",
    "    superior = mediana + 1.4826*3*MAD\n",
    "    filtro_outliers_sup = columna > superior\n",
    "    filtro_outliers_inf = columna < inferior\n",
    "    \n",
    "    if columna[filtro_outliers_inf].empty and columna[filtro_outliers_sup].empty:\n",
    "        print(f'La columna {col} no tiene outliers para \\u03B8 = 3')\n",
    "    elif columna[filtro_outliers_inf].empty and not columna[filtro_outliers_sup].empty:\n",
    "        print(f'Los outliers superiores de la columna {col} son:', columna[filtro_outliers_sup].tolist())\n",
    "    elif not columna[filtro_outliers_inf].empty and columna[filtro_outliers_sup].empty:\n",
    "        print(f'Los outliers inferiores de la columna {col} son:', columna[filtro_outliers_inf].tolist())\n",
    "    else:\n",
    "        print(f'Los outliers inferiores de la columna {col} son:', columna[filtro_outliers_inf].tolist())\n",
    "        print(f'Los outliers superiores de la columna {col} son:', columna[filtro_outliers_sup].tolist())\n",
    "\n"
   ]
  },
  {
   "cell_type": "markdown",
   "metadata": {},
   "source": [
    "Observamos que muchas de las columnas no tienen outliers. Por otra parte, la columna 'BMI' presenta una cantidad bastante alta de outliers, quizás el valor de $\\theta$ es muy restrictivo con esta variable. \n",
    "\n",
    "Ahora hacemos los gráficos de caja y bigotes de las variables que presentan outliers y de la variable 'Avg_BPM'. Dado que este tipo de gráfico usa el método del rango intercuártilico para calcular los outliers, puede que aparezcan más que en el caso de *Hampel X84*."
   ]
  },
  {
   "cell_type": "code",
   "execution_count": null,
   "metadata": {},
   "outputs": [],
   "source": [
    "#Graficos de caja y bigotes\n",
    "fig, axes = plt.subplots(2,2,figsize=(12,10))\n",
    "\n",
    "df['Weight (kg)'].plot(kind='box', ax=axes[0,0], figsize=(11,9), boxprops=dict(color='blue'), medianprops=dict(linewidth=2,color='orange'), title='Weight (kg)',\n",
    "                       whiskerprops=dict(color='blue'),capprops=dict(color='blue'))\n",
    "\n",
    "df['Avg_BPM'].plot(kind='box', ax=axes[0,1], boxprops=dict(color='blue'), medianprops=dict(linewidth=2,color='orange'), title='Avg BPM', whiskerprops=dict(color='blue'),capprops=dict(color='blue'))\n",
    "\n",
    "df['Calories_Burned'].plot(kind='box', ax=axes[1,0],boxprops=dict(color='blue'), medianprops=dict(linewidth=2,color='orange'), title='Calories Burned',\n",
    "                           whiskerprops=dict(color='blue'),capprops=dict(color='blue'))\n",
    "\n",
    "df['BMI'].plot(kind='box', ax=axes[1,1],boxprops=dict(color='blue'), medianprops=dict(linewidth=2,color='orange'), title='BMI', whiskerprops=dict(color='blue'),capprops=dict(color='blue'))\n",
    "\n",
    "\n",
    "plt.tight_layout()\n",
    "plt.show()"
   ]
  },
  {
   "cell_type": "markdown",
   "metadata": {},
   "source": [
    "Se puede ver que han aparecido más outliers de los que había antes. En el caso de 'Weight', están muy cercanos al límite superior por lo que no los trataremos. En el caso de 'Calories Burned', aunque algunos ya se alejan un poco tampoco haremos nada con ellos. Lo mismo con 'BMI' que sí presenta outliers bastante distantes, pero los dejamos puesto que es una medida secundaria dependiente de dos variables independientes (peso y altura) y no nos es de mucha utilidad.\n",
    "\n",
    "El motivo de que no tratemos los outliers es que no parecen responder a medidas erróneas sino a casos extremos de sobrepeso en el caso 'Weight' y 'BMI' (son variables correlacionadas).\n",
    "Los outliers en 'Calories Burned' son verosímiles. "
   ]
  },
  {
   "cell_type": "markdown",
   "metadata": {},
   "source": [
    "## TEST ESTADISTICOS\n"
   ]
  },
  {
   "cell_type": "markdown",
   "metadata": {},
   "source": [
    "<div style=\"background-color: blue; padding: 10px; border-radius: 5px;\">\n",
    "Una vez estudiados los outliers, pasamos a realizar algunos TEST ESTADÍSTICOS sobre algunas variables. En nuestro DataFrame tenemos ciertas variables categóricas como 'Gender', 'Exp_Level', 'Workout frequency' y 'Workout_Type'. Vamos a ver qué comportamientos tienen las variables cuantitativas dependiendo de la categoría a la que pertenecen. Despúes veremos las relaciones entre las propias variables categóricas.\n",
    "</div>"
   ]
  },
  {
   "cell_type": "markdown",
   "metadata": {},
   "source": [
    "En primer lugar, haremos una prueba *t-student* con las categorías de 'Gender', véase Male/Female, sobre la variable 'Calories_Burned', con el objetivo de ver si la media de calorías quemadas es diferente dependiendo del género."
   ]
  },
  {
   "cell_type": "code",
   "execution_count": null,
   "metadata": {},
   "outputs": [],
   "source": [
    "import scipy.stats as stats\n",
    "\n",
    "calorias_hombres = df[df['Gender'] == 'Male']['Calories_Burned']\n",
    "calorias_mujeres = df[df['Gender'] == 'Female']['Calories_Burned']\n",
    "\n",
    "# Prueba t-student\n",
    "t_stat, p_value = stats.ttest_ind(calorias_hombres, calorias_mujeres, equal_var=True)\n",
    "\n",
    "print(f\"Estadístico t: {t_stat}\")\n",
    "print(f\"Valor p: {p_value}\")\n",
    "alpha=0.05\n",
    "if p_value < alpha:\n",
    "    print(f'Rechazamos la hipótesis nula: hay diferencia significativa entre la media de calorías quemadas.')\n",
    "else:\n",
    "    print(f'No se puede rechazar la hipótesis nula: no hay diferencia significativa entre la media de calorías quemadas.')"
   ]
  },
  {
   "cell_type": "markdown",
   "metadata": {},
   "source": [
    "Concluimos que la media de calorías quemadas sí difiere significativamente en función del género.\n",
    "\n",
    "Ahora realizamos un test ANOVA sobre la variable 'Calories_Burned' dependiendo del tipo de entrenamiento para ver si todos los entrenamientos son iguales a la hora de quemar calorías o si hay alguno que no. La hipótesis nula ($H_0$) es que la media de calorías quemadas es igual para todos los entrenamientos. Veamos:"
   ]
  },
  {
   "cell_type": "code",
   "execution_count": null,
   "metadata": {},
   "outputs": [],
   "source": [
    "calorias_fuerza=df[df['Workout_Type']=='Strength']['Calories_Burned']\n",
    "calorias_cardio=df[df['Workout_Type']=='Cardio']['Calories_Burned']\n",
    "calorias_yoga=df[df['Workout_Type']=='Yoga']['Calories_Burned']\n",
    "calorias_hiit=df[df['Workout_Type']=='HIIT']['Calories_Burned']\n",
    "\n",
    "f_stat, p_value = stats.f_oneway(calorias_fuerza, calorias_cardio, calorias_yoga, calorias_hiit)\n",
    "\n",
    "print(f\"Estadístico F: {f_stat}\")\n",
    "print(f\"Valor p: {p_value}\")\n",
    "alpha=0.05\n",
    "if p_value < alpha:\n",
    "    print(f'Rechazamos la hipótesis nula: las medias son significativamente diferentes.')\n",
    "else:\n",
    "    print(f'No se puede rechazar la hipótesis nula: las medias no son significativamente diferentes.')"
   ]
  },
  {
   "cell_type": "markdown",
   "metadata": {},
   "source": [
    "El valor alto de $F$ y el valor de $P>0.05$ nos impiden rechazar la hipótesis nula, por lo que no hay evidencia suficiente para determinar que la media de calorías quemadas difiera en ningún tipo de entrenamiento."
   ]
  },
  {
   "cell_type": "markdown",
   "metadata": {},
   "source": [
    "Ahora hacemos otro test ANOVA entre 'Calories_Burned' y 'Experience_Level', para ver si la experiencia influye en la quema de calorías."
   ]
  },
  {
   "cell_type": "code",
   "execution_count": null,
   "metadata": {},
   "outputs": [],
   "source": [
    "calorias_principiante=df[df['Experience_Level']=='Principiante']['Calories_Burned']\n",
    "calorias_intermedio=df[df['Experience_Level']=='Intermedio']['Calories_Burned']\n",
    "calorias_avanzado=df[df['Experience_Level']=='Avanzado']['Calories_Burned']\n",
    "\n",
    "f_stat, p_value = stats.f_oneway(calorias_principiante, calorias_intermedio, calorias_avanzado)\n",
    "\n",
    "print(f\"Estadístico F: {f_stat}\")\n",
    "print(f\"Valor p: {p_value}\")\n",
    "alpha=0.05\n",
    "if p_value < alpha:\n",
    "    print(f'Rechazamos la hipótesis nula: las medias son significativamente diferentes.')\n",
    "else:\n",
    "    print(f'No se puede rechazar la hipótesis nula: las medias no son significativamente diferentes.')"
   ]
  },
  {
   "cell_type": "markdown",
   "metadata": {},
   "source": [
    "En este caso sí podemos rechazar la hipótesis nula y afirmar que la media de calorías quemadas sí que varía de forma significativa en función del nivel de experiencia. No obstante, no conocemos si hay dos grupos en que no varía, o si varía en los tres."
   ]
  },
  {
   "cell_type": "markdown",
   "metadata": {},
   "source": [
    "Para acabar con los test ANOVA, estudiamos si la frecuencia de entrenamiento semanal influye en las calorías quemadas por entenamiento. A priori no deberían estar relacionadas, pero veamos:"
   ]
  },
  {
   "cell_type": "code",
   "execution_count": null,
   "metadata": {},
   "outputs": [],
   "source": [
    "calorias_dos_dias=df[df['Workout_Frequency (days/week)']=='2']['Calories_Burned']\n",
    "calorias_tres_dias=df[df['Workout_Frequency (days/week)']=='3']['Calories_Burned']\n",
    "calorias_cuatro_dias=df[df['Workout_Frequency (days/week)']=='4']['Calories_Burned']\n",
    "calorias_cinco_dias=df[df['Workout_Frequency (days/week)']=='5']['Calories_Burned']\n",
    "\n",
    "f_stat, p_value = stats.f_oneway(calorias_principiante, calorias_intermedio, calorias_avanzado)\n",
    "\n",
    "print(f\"Estadístico F: {f_stat}\")\n",
    "print(f\"Valor p: {p_value}\")\n",
    "alpha=0.05\n",
    "if p_value < alpha:\n",
    "    print(f'Rechazamos la hipótesis nula: las medias son significativamente diferentes.')\n",
    "else:\n",
    "    print(f'No se puede rechazar la hipótesis nula: las medias no son significativamente diferentes.')"
   ]
  },
  {
   "cell_type": "markdown",
   "metadata": {},
   "source": [
    "El resultado es que las calorías quemadas por entrenamiento sí varían significativamente en función de los días a la semana que se entrena. Luego veremos una posible explicación."
   ]
  },
  {
   "cell_type": "markdown",
   "metadata": {},
   "source": [
    "Ahora hacemos un test $\\chi^2$ entre todas las variables categóricas para ver si hay una asociación significativa entre ellas o no. "
   ]
  },
  {
   "cell_type": "code",
   "execution_count": null,
   "metadata": {},
   "outputs": [],
   "source": [
    "columnas_categoricas=['Gender','Workout_Type','Workout_Frequency (days/week)','Experience_Level']\n",
    "for i, col1 in enumerate(columnas_categoricas):\n",
    "    for col2 in columnas_categoricas[i+1:]:\n",
    "        tabla_contingencia = pd.crosstab(df[col1], df[col2])\n",
    "        chi2_stat, p_value, dof, expected = stats.chi2_contingency(tabla_contingencia)\n",
    "        \n",
    "        print(f'\\nComparando {col1} y {col2}: Estadístico chi-cuadrado: {chi2_stat}, Valor p: {p_value}')\n",
    "        alpha = 0.05\n",
    "        if p_value < alpha:\n",
    "            print(f'Rechazamos la hipótesis nula: Existe una asociación significativa entre {col1} y {col2}.')\n",
    "        else:\n",
    "            print(f'No se puede rechazar la hipótesis nula: No se encontró asociación significativa entre {col1} y {col2}.')\n",
    "        print('----------------------------------------------------------------------------------------------------------------------')"
   ]
  },
  {
   "cell_type": "markdown",
   "metadata": {},
   "source": [
    "Como vemos, la única relación que muestra una asociación significativa es 'Frecuencia semanal de entrenamiento' y 'Nivel de experiencia'."
   ]
  },
  {
   "cell_type": "markdown",
   "metadata": {},
   "source": [
    "## CORRELACIONES ENTRE VARIABLES\n"
   ]
  },
  {
   "cell_type": "markdown",
   "metadata": {},
   "source": [
    "<div style=\"background-color: blue; padding: 10px; border-radius: 5px;\">\n",
    "A continuación, pasamos a ver las CORRELACIONES entre algunas variables. \n",
    "</div>"
   ]
  },
  {
   "cell_type": "markdown",
   "metadata": {},
   "source": [
    "Empezamos por ver la correlación entre 'Workout_Frequency' y 'Experience_Level' que hemos visto antes que presentan una relación entre ellas. "
   ]
  },
  {
   "cell_type": "code",
   "execution_count": null,
   "metadata": {},
   "outputs": [],
   "source": [
    "#Graficamos un mapa de calor\n",
    "import seaborn as sns\n",
    "\n",
    "tabla_contingencia_new = pd.crosstab(df['Workout_Frequency (days/week)'],df['Experience_Level'])\n",
    "plt.figure(figsize=(10, 8))\n",
    "sns.heatmap(tabla_contingencia_new, annot=True, cmap=\"YlGnBu\", fmt='d')\n",
    "plt.title(\"Heatmap de frecuencias entre Frecuencia de entrenamiento y Nivel de experiencia\")\n",
    "plt.xlabel(\"Nivel de experiencia\")\n",
    "plt.ylabel(\"Frecuencia de entrenamiento\")\n",
    "plt.show()"
   ]
  },
  {
   "cell_type": "markdown",
   "metadata": {},
   "source": [
    "Este mapa de calor nos ilustra bastante bien que a mayor nivel de experiencia la frecuencia de entrenamiento (días/semna) es mayor. \n",
    "\n",
    "En la siguiente gráfica mostramos la correlación entre la duración de la sesión de entrenamiento y las calorías quemadas, separado por género. Se puede ver que la relación es lineal, tal y como cabría esperar."
   ]
  },
  {
   "cell_type": "code",
   "execution_count": null,
   "metadata": {},
   "outputs": [],
   "source": [
    "#Gráfico de lineas\n",
    "plt.figure(figsize=(10, 6))\n",
    "sns.lineplot(data=df, x='Session_Duration (hours)', y=\"Calories_Burned\",hue=\"Gender\")\n",
    "plt.title('Calorías quemadas dependiendo la duración del entrenamiento')\n",
    "plt.xlabel('Duración del entrenamiento')\n",
    "plt.ylabel('Calorías quemadas')\n",
    "plt.grid(True)\n",
    "plt.show()"
   ]
  },
  {
   "cell_type": "markdown",
   "metadata": {},
   "source": [
    "Ahora pasamos a mostrar varios gráficos de tipo 'violin' y 'enjambre' para grupos de tres variables, de las cuales dos son categóricas y una continua.\n",
    "\n",
    "El primero muestra las calorías quemadas en función del tipo de entrenamiento y clasificadas por género."
   ]
  },
  {
   "cell_type": "code",
   "execution_count": null,
   "metadata": {},
   "outputs": [],
   "source": [
    "fig=plt.figure(figsize=(9,7))\n",
    "sns.violinplot(data=df,x='Workout_Type',y='Calories_Burned',hue='Gender')\n",
    "plt.xlabel('Tipo de entrenamiento')\n",
    "plt.ylabel('Calorías quemadas')\n",
    "plt.title('Calorías quemadas dependiendo del tipo de entrenamiento y clasificado por género')\n",
    "plt.show()"
   ]
  },
  {
   "cell_type": "markdown",
   "metadata": {},
   "source": [
    "Se observa que las calorías quemadas son más o menos las mismas para todos los tipos de entrenamiento excepto para el Yoga, que quema algo menos (esto ya lo habíamos estudiado y ahora lo vemos con claridad). En todos los casos, los hombres queman más que las mujeres. El hecho de que los 'violines' presenten grosor hasta las puntas nos indica que los datos están dispersos y no concentrados en torno a la media.\n",
    "\n",
    "El siguiente gráfico nos muestra las calorías quemadas en función del nivel de experiencia, de nuevo dividido por género. "
   ]
  },
  {
   "cell_type": "code",
   "execution_count": null,
   "metadata": {},
   "outputs": [],
   "source": [
    "fig=plt.figure(figsize=(9,7))\n",
    "sns.violinplot(data=df,x='Experience_Level',y='Calories_Burned',hue='Gender')\n",
    "plt.xlabel('Nivel de experiencia')\n",
    "plt.ylabel('Calorías quemadas')\n",
    "plt.title('Calorías quemadas dependiendo del nivel de experiencia y clasificado por género')\n",
    "plt.show()"
   ]
  },
  {
   "cell_type": "markdown",
   "metadata": {},
   "source": [
    "Se aprecia como a mayor nivel de experiencia las calorías quemadas por entrenamiento son mayores (ya habíamos visto que había diferencia significativa al menos en un grupo). La diferencia entre hombres y mujeres solo se aprecia en el nivel avanzado. En este caso los 'violines' del nivel principiante presentan una gran dispersion de los valores, mientras que los niveles intermedio y avanzado están más concentrados en torno a la media.\n",
    "\n",
    "El siguiente gráfico de tipo 'enjambre' muestra las calorías quemadas en función de la frecuencia de entrenamiento smeanal y el nivel de experiencia. Aquí veremos por qué antes hemos obtenido que el número de días a la semana que se entrena influye en las calorías quemadas por entrenamiento. "
   ]
  },
  {
   "cell_type": "code",
   "execution_count": null,
   "metadata": {},
   "outputs": [],
   "source": [
    "#Gráfico de enjambre\n",
    "fig, ax = plt.subplots(figsize=(10,8))\n",
    "sns.swarmplot(data=df, x=\"Workout_Frequency (days/week)\", y=\"Calories_Burned\",hue='Experience_Level')\n",
    "plt.xlabel('Días de entrenamiento por semana')\n",
    "plt.ylabel('Calorías quemadas')\n",
    "plt.title('Calorías quemadas en función de la frecuencia semanal de entrenamiento y del nivel de experiencia')\n",
    "plt.legend()\n",
    "plt.show()"
   ]
  },
  {
   "cell_type": "markdown",
   "metadata": {},
   "source": [
    "Podemos ver que los principiantes entrenan 2 o 3 días por semana; los intermedios, 3 o 4; y los avanzados 4 o 5. A parte, las calorías quemadas, como acabamos de ver, aumentan con el nivel de experiencia. Y por último, en respuesta a por qué las calorías quemadas están relacionadas con la frecuancia semanal de entrenamiento, se observa que los que tienen una mayor experiencia entrenan más días por semana, y también son los que más calorías queman por entrenamiento. Así pues, concluimos que no se queman más calorías (en un entrenamiento) por entrenar más días a la semana, sino por tener un nivel de experiencia mayor. "
   ]
  },
  {
   "cell_type": "markdown",
   "metadata": {},
   "source": [
    "Otra variable interesante a estudiar es el procentaje graso ('Fat_Percentage'). Vamos a crear dos gráficos de violines para observar su comportamiento."
   ]
  },
  {
   "cell_type": "code",
   "execution_count": null,
   "metadata": {},
   "outputs": [],
   "source": [
    "#Gráfico de violines\n",
    "fig=plt.figure(figsize=(9,7))\n",
    "sns.violinplot(data=df,x='Experience_Level',y='Fat_Percentage',hue='Gender')\n",
    "plt.xlabel('Nivel de experiencia')\n",
    "plt.ylabel('Porcentaje de grasa corporal')\n",
    "plt.title('Porcentaje de grasa corporal dependiendo del nivel de experiencia y clasificado por género')\n",
    "plt.show()"
   ]
  },
  {
   "cell_type": "markdown",
   "metadata": {},
   "source": [
    "Este gráfico nos muestra claramente cómo los que tienen un nivel avanzado presentan un porcentaje de grasa considerablemente menor que los de niveles intermedio y principiante, además con una dispersión mucho menor. Como cabría esperar, el procentaje graso en las mujeres es superior al de los hombres en todos los grupos, respondiendo a la proporción biológica. También resulta llamativo que no haya diferencia perceptible entre los niveles intermedio y principiante en el porcentaje graso, lo que nos sugiere que alcanzar niveles bajos de grasa requiere de mucho tiempo. "
   ]
  },
  {
   "cell_type": "code",
   "execution_count": null,
   "metadata": {},
   "outputs": [],
   "source": [
    "#Gráfico de violines\n",
    "fig=plt.figure(figsize=(9,7))\n",
    "sns.violinplot(data=df,x='Workout_Type',y='Fat_Percentage',hue='Experience_Level')\n",
    "plt.xlabel('Nivel de experiencia')\n",
    "plt.ylabel('Porcentaje de grasa corporal')\n",
    "plt.title('Porcentaje de grasa corporal dependiendo del nivel de experiencia y clasificado por género')\n",
    "plt.show()"
   ]
  },
  {
   "cell_type": "markdown",
   "metadata": {},
   "source": [
    "Este último gráfico es también muy significativo: en primer lugar vemos la ya mencionada diferencia entre los niveles de experiencia y el porcentaje graso (solo los avanzados presentan diferencias significativas), pero además, se observa cómo el entrenamiento 'HIIT' es el que mejor resultados da en cuanto a porcentaje graso."
   ]
  },
  {
   "cell_type": "markdown",
   "metadata": {},
   "source": [
    "## MODELO DE REGRESION"
   ]
  },
  {
   "cell_type": "markdown",
   "metadata": {},
   "source": [
    "<div style=\"background-color: blue; padding: 10px; border-radius: 5px;\">\n",
    "Finalmente, vamos a entrenar un modelo de regresión lineal para predecir las calorías quemadas por entrenamiento en función de los parámetros que más influyen en ello.\n",
    "</div>"
   ]
  },
  {
   "cell_type": "markdown",
   "metadata": {},
   "source": [
    "Entrenamos el modelo de regresión lineal usando las variables: edad, altura, peso, nivel de experiencia, género y duración de la sesión, que hemos visto que son las que más influyen en la quema de calorías. "
   ]
  },
  {
   "cell_type": "code",
   "execution_count": null,
   "metadata": {},
   "outputs": [],
   "source": [
    "import statsmodels.api as sm\n",
    "from sklearn.model_selection import train_test_split\n",
    "\n",
    "\n",
    "#Entrenamiento del modelo de regresión\n",
    "X = pd.get_dummies(df[['Age','Height (m)','Weight (kg)','Experience_Level','Gender', 'Session_Duration (hours)']], drop_first=True)\n",
    "X = X.astype(float)\n",
    "X = sm.add_constant(X)\n",
    "y = df['Calories_Burned']\n",
    "\n",
    "X_train, X_test, y_train, y_test = train_test_split(X, y, test_size=0.30)\n",
    "\n",
    "modelo_calorias = sm.OLS(y_train, X_train).fit()  "
   ]
  },
  {
   "cell_type": "markdown",
   "metadata": {},
   "source": [
    "Ahora que ya tenemos entrenado el modelo, lo testeamos y lo evaluamos:"
   ]
  },
  {
   "cell_type": "code",
   "execution_count": null,
   "metadata": {},
   "outputs": [],
   "source": [
    "from sklearn.metrics import mean_absolute_error, mean_squared_error\n",
    "\n",
    "#Predicciones del modelo\n",
    "y_pred = modelo_calorias.predict(X_test)\n",
    "\n",
    "#Evaluación del modelo\n",
    "bias = np.mean(y_pred - y_test)\n",
    "mae = mean_absolute_error(y_test, y_pred)\n",
    "rmse = np.sqrt(mean_squared_error(y_test, y_pred))\n",
    "rmse_normalizado = rmse / (np.max(y_test) - np.min(y_test))\n",
    "\n",
    "predicciones= pd.DataFrame(y_pred, columns=['Calorías quemadas predichas'])\n",
    "print(f'BIAS: {bias}, MAE: {mae}, RMSE: {rmse}, RMSE normalizado: {rmse_normalizado}')\n",
    "print(predicciones.head(5))"
   ]
  },
  {
   "cell_type": "markdown",
   "metadata": {},
   "source": [
    "Vemos que el error cuadrático medio normalizado es bastante bajo, lo que nos indica que el modelo se ajusta bastante bien a la realidad. \n",
    "\n",
    "Obtenemos ahora la ecuación del modelo para ver cuales son los parámetros que más influyen."
   ]
  },
  {
   "cell_type": "code",
   "execution_count": null,
   "metadata": {},
   "outputs": [],
   "source": [
    "coeficientes = modelo_calorias.params\n",
    "print(coeficientes)"
   ]
  },
  {
   "cell_type": "markdown",
   "metadata": {},
   "source": [
    "Vemos que las variables que más influyen son: duración de la sesión, género y altura. \n",
    "\n",
    "Para finalizar, representamos los resultados. Elegimos las variables 'Height (m)' y 'Session Duration' ya que la variable 'Gender', aunque influye más que altura, no se representa bien al ser 0 o 1."
   ]
  },
  {
   "cell_type": "code",
   "execution_count": null,
   "metadata": {},
   "outputs": [],
   "source": [
    "import plotly.graph_objects as go\n",
    "\n",
    "\n",
    "# Crear los puntos para la recta de regresión\n",
    "rango_altura = np.linspace(df['Height (m)'].min(), df['Height (m)'].max(), 20)\n",
    "rango_duracion = np.linspace(df['Session_Duration (hours)'].min(), df['Session_Duration (hours)'].max(), 20)\n",
    "altura_grid, duracion_grid = np.meshgrid(rango_altura, rango_duracion)\n",
    "\n",
    "\n",
    "# Extraer específicamente los coeficientes deseados\n",
    "alpha = coeficientes['const']  \n",
    "coef_altura = coeficientes['Height (m)']\n",
    "coef_duracion = coeficientes['Session_Duration (hours)']  \n",
    "calories_pred = alpha + coef_altura * altura_grid + coef_duracion * duracion_grid\n",
    "\n",
    "\n",
    "# Crear la figura conp plotly\n",
    "fig = go.Figure()\n",
    "\n",
    "# Agregar puntos de datos originales\n",
    "fig.add_trace(go.Scatter3d(\n",
    "    x=df['Height (m)'],\n",
    "    y=df['Session_Duration (hours)'],\n",
    "    z=df['Calories_Burned'],\n",
    "    mode='markers',\n",
    "    marker=dict(size=5, color='blue', opacity=0.8),\n",
    "    name=\"Datos originales\"\n",
    "))\n",
    "\n",
    "# Agregar la superficie de la recta de regresión\n",
    "fig.add_trace(go.Surface(\n",
    "    x=rango_altura,\n",
    "    y=rango_duracion,\n",
    "    z=calories_pred,\n",
    "    colorscale=\"viridis\",\n",
    "    opacity=0.5,\n",
    "    name=\"Recta de regresión\"\n",
    "))\n",
    "\n",
    "# Configurar el diseño del gráfico\n",
    "fig.update_layout(\n",
    "    title=\"Regresión Lineal en 3D\",\n",
    "    scene=dict(\n",
    "        xaxis_title=\"x - Altura (m)\",\n",
    "        yaxis_title=\"y - Duración de la sesión (horas) \",\n",
    "        zaxis_title=\"z- Calorías quemadas\"\n",
    "\n",
    "    ),\n",
    "    width=900,  # Ancho de la figura\n",
    "    height=700  # Altura de la figura\n",
    ")\n",
    "\n",
    "# Mostrar el gráfico\n",
    "fig.show()"
   ]
  },
  {
   "cell_type": "markdown",
   "metadata": {},
   "source": [
    "## CONCLUSIONES"
   ]
  },
  {
   "cell_type": "markdown",
   "metadata": {},
   "source": [
    "Para terminar, se exponen las conlcusiones a las que se han llegado sobre la quema de calorías:\n",
    "\n",
    "- El tipo de entrenamiento no influye en la quema de calorías\n",
    "\n",
    "- El nivel de experiencia sí influye en la quema de calorías (a mayor experiencia mayor quema).\n",
    "- La duración de la sesión de entrenamiento sí influye en la quema de calorías (a mayor duración mayor quema).\n",
    "- Factores biológicos como el género y la altura, influyen de manera considerable en la quema de calorías. Sobre todo el género, donde  los hombres queman bastante más que las mujeres.\n",
    "- El peso o la edad apenas influyen en la quema de calorías.\n",
    "\n"
   ]
  }
 ],
 "metadata": {
  "kernelspec": {
   "display_name": "Python 3",
   "language": "python",
   "name": "python3"
  },
  "language_info": {
   "codemirror_mode": {
    "name": "ipython",
    "version": 3
   },
   "file_extension": ".py",
   "mimetype": "text/x-python",
   "name": "python",
   "nbconvert_exporter": "python",
   "pygments_lexer": "ipython3",
   "version": "3.12.2"
  },
  "orig_nbformat": 4
 },
 "nbformat": 4,
 "nbformat_minor": 2
}
