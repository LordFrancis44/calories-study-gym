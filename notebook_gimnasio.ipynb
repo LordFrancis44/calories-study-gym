{
 "cells": [
  {
   "cell_type": "markdown",
   "metadata": {},
   "source": [
    "<div>\n",
    "<img src=\"https://raw.githubusercontent.com/RafaelCaballero/tdm/refs/heads/master/images/mioti.png\" width=600 />\n",
    "</ivdi>\n",
    "<div style=\"background-color: #E9967A; color: black; padding: 10px; border-radius: 5px;\">\n",
    "<h1>Study on the variables influencing calorie burning </h1>\n",
    "</div>"
   ]
  },
  {
   "cell_type": "markdown",
   "metadata": {},
   "source": [
    "# Table of contents\n",
    "1. [Data loading, cleaning, and restructuring](#data-loading,-cleaning-and-restructuring)<br>\n",
    "2. [Visualization of variables individually](#visualization-of-variables-individually)<br>\n",
    "3. [Outliers](#outliers)<br>\n",
    "4. [Statistical tests](#statistical-tests)<br>\n",
    "5. [Correlation between variables](#correlation-between-variables)<br>\n",
    "6. [Regression model](#regression-model)<br>\n",
    "7. [Conclusions](#conclusions)<br>"
   ]
  },
  {
   "cell_type": "markdown",
   "metadata": {},
   "source": [
    "## DATA LOADING, CLEANING AND RESTRUCTURING"
   ]
  },
  {
   "cell_type": "markdown",
   "metadata": {},
   "source": [
    "First, we read the data from the csv file."
   ]
  },
  {
   "cell_type": "code",
   "execution_count": null,
   "metadata": {},
   "outputs": [],
   "source": [
    "#Carga de datos\n",
    "import numpy as np\n",
    "import pandas as pd\n",
    "\n",
    "df= pd.read_csv('gym_members_exercise_tracking.csv', sep=',')\n",
    "df.head(10)"
   ]
  },
  {
   "cell_type": "markdown",
   "metadata": {},
   "source": [
    "We drop the column'water_intake' since it is not of interest."
   ]
  },
  {
   "cell_type": "code",
   "execution_count": null,
   "metadata": {},
   "outputs": [],
   "source": [
    "df= df.drop(columns='Water_Intake (liters)')"
   ]
  },
  {
   "cell_type": "markdown",
   "metadata": {},
   "source": [
    "We obtain some statistics to familiarize ourselves with the data and the information of each column through our own 'info_df()' function."
   ]
  },
  {
   "cell_type": "code",
   "execution_count": null,
   "metadata": {},
   "outputs": [],
   "source": [
    "df.describe()"
   ]
  },
  {
   "cell_type": "code",
   "execution_count": null,
   "metadata": {},
   "outputs": [],
   "source": [
    "def info_df(df):\n",
    "    return pd.DataFrame({\n",
    "        'Columna': df.columns,\n",
    "        'No Nulos': df.notnull().sum().values,\n",
    "        'Nulos': df.isnull().sum().values,\n",
    "        'Tipo Python': df.dtypes.values,\n",
    "        'Núm. valores': [ df[col].cat.ordered  if isinstance(df[col].dtype, pd.CategoricalDtype) else None\n",
    "            for col in df.columns  ]\n",
    "    })\n",
    "\n",
    "for col in df.columns:\n",
    "    if len(df[col].unique())<10:\n",
    "        print(df[col].value_counts())\n",
    "        print(\"=\"*50)\n",
    "        \n",
    "info_df(df)"
   ]
  },
  {
   "cell_type": "markdown",
   "metadata": {},
   "source": [
    "We convert the columns 'Gender', 'Workout_Type', 'Workout_Frequency', and 'Experience_Level' into categorical variables:"
   ]
  },
  {
   "cell_type": "code",
   "execution_count": null,
   "metadata": {},
   "outputs": [],
   "source": [
    "from pandas.api.types import CategoricalDtype \n",
    "\n",
    "cat_type=CategoricalDtype(categories=['Male','Female'], ordered=False)\n",
    "df['Gender'] = df['Gender'].astype(cat_type)\n",
    "\n",
    "cat_type = CategoricalDtype(categories=['Strength','Cardio','Yoga','HIIT'], ordered=False) \n",
    "df['Workout_Type'] = df['Workout_Type'].astype(cat_type)\n",
    "\n",
    "df['Workout_Frequency (days/week)']=df['Workout_Frequency (days/week)'].astype(str)\n",
    "cat_type = CategoricalDtype(categories=['2','3','4','5'], ordered=False) \n",
    "df['Workout_Frequency (days/week)'] = df['Workout_Frequency (days/week)'].astype(cat_type)\n",
    "\n",
    "#La columna 'experience_level' la convertimos en palabras y después cambiamos su tipo\n",
    "mapa={1:'Principiante',2:'Intermedio',3:'Avanzado'}\n",
    "df['Experience_Level']=df['Experience_Level'].map(mapa)\n",
    "cat_type=CategoricalDtype(categories=['Principiante','Intermedio','Avanzado'], ordered=False)\n",
    "df['Experience_Level']=df['Experience_Level'].astype(cat_type)\n",
    "\n",
    "info_df(df)"
   ]
  },
  {
   "cell_type": "markdown",
   "metadata": {},
   "source": [
    "## VISUALIZATION OF VARIABLES INDIVIDUALLY"
   ]
  },
  {
   "cell_type": "markdown",
   "metadata": {},
   "source": [
    "<div style=\"background-color: blue; padding: 10px; border-radius: 5px;\">\n",
    "We now proceed to present some graphs of the variables individually to better understand the data. Graphs of all variables are not presented for the sake of brevity.\n",
    "</div>\n",
    "\n",
    "First, we plot histograms of all the continuous variables:"
   ]
  },
  {
   "cell_type": "code",
   "execution_count": null,
   "metadata": {},
   "outputs": [],
   "source": [
    "#Histogramas de las variables continuas\n",
    "import matplotlib.pyplot as plt\n",
    "\n",
    "# Columnas a graficar\n",
    "columnas_a_graficar = ['Age', 'Weight (kg)', 'Height (m)','Max_BPM', 'Avg_BPM', 'Session_Duration (hours)','Calories_Burned','Fat_Percentage','BMI']\n",
    "\n",
    "# Crear subgráficos\n",
    "fig, axes = plt.subplots(3, 3, figsize=(12, 8))\n",
    "axes = axes.flatten()\n",
    "\n",
    "for i, col in enumerate(columnas_a_graficar):\n",
    "    ax = axes[i]\n",
    "    df[col].plot(kind='density', ax=ax, color='blue', xlim=(df[col].min(), df[col].max()))\n",
    "    df[col].plot(kind='hist', ax=ax, bins=30, density=True, alpha=0.5, color='orange')\n",
    "    ax.set_title(f'Distribución de {col}')\n",
    "    ax.set_xlabel(col)\n",
    "    ax.set_ylabel('Densidad/Frecuencia')\n",
    "\n",
    "# Ajustar diseño\n",
    "plt.tight_layout()\n",
    "plt.show()\n"
   ]
  },
  {
   "cell_type": "markdown",
   "metadata": {},
   "source": [
    "Comments on each of the graphs:  \n",
    "\n",
    "- **Distribution of Age**: A nearly uniform distribution is observed.  \n",
    "\n",
    "- **Distribution of Weight (kg)**: A right-skewed normal distribution is observed. Most weights are concentrated between 60 and 80 kg.  \n",
    "- **Distribution of Height (m)**: A roughly bimodal distribution is observed, with peaks around 1.63 m and 1.78 m. These peaks evidently correspond to the average heights of each gender (Male and Female).  \n",
    "- **Distribution of Max_BPM**: A uniform distribution is observed.  \n",
    "- **Distribution of Avg_BPM**: A uniform distribution is observed, with a slight (almost negligible) peak around 132 BPM.  \n",
    "- **Distribution of Session_Duration (hours)**: A roughly symmetric normal distribution is observed. However, the right tail has slightly greater preponderance.  \n",
    "- **Distribution of Calories_Burned**: A right-skewed normal distribution is observed. The most common values are between 800 and 900.  \n",
    "- **Distribution of Fat_Percentage**: A broadly left-skewed (negative) normal distribution is observed.  \n",
    "- **Distribution of BMI**: A right-skewed normal distribution is observed. The most common values are around 25, as expected.  "
   ]
  },
  {
   "cell_type": "markdown",
   "metadata": {},
   "source": [
    "Next, all bar charts are displayed grouped into a single image for the sake of brevity. The variables shown here are categorical and provide the following information:"
   ]
  },
  {
   "cell_type": "code",
   "execution_count": null,
   "metadata": {},
   "outputs": [],
   "source": [
    "#Todos los gráficos de barras juntos.\n",
    "fig, axes= plt.subplots(2,2,figsize=(20,18))\n",
    "\n",
    "df['Experience_Level'].value_counts().plot(kind='bar',ax=axes[0,0],figsize=(10, 8), color='blue', alpha=0.5, title='Frecuencia de cada nivel de exp.',\n",
    "                                           xlabel='Nivel de experiencia')\n",
    "df['Workout_Type'].value_counts().plot(kind='bar',ax=axes[0,1],figsize=(10, 8), color='orange',alpha=0.5, title='Frecuencia de cada tipo de entrenamiento',\n",
    "                                       xlabel='Tipo de entrenamiento')\n",
    "df['Gender'].value_counts().plot(kind='bar',ax=axes[1,0],figsize=(10, 8), color='orange',alpha=0.5, title='Frecuencia de género',\n",
    "                                 xlabel='Género')\n",
    "df['Workout_Frequency (days/week)'].value_counts().sort_index().plot(kind='bar',ax=axes[1,1],figsize=(10, 8), color='blue', alpha=0.5, title='Frecuencia de entrenamiento', \n",
    "                                                                     xlabel='Días de entrenamiento por semana')\n",
    "axes[0, 0].set_xticklabels(axes[0, 0].get_xticklabels(), rotation=45)\n",
    "axes[0, 1].set_xticklabels(axes[0, 1].get_xticklabels(), rotation=45)\n",
    "axes[1, 0].set_xticklabels(axes[1, 0].get_xticklabels(), rotation=45)\n",
    "axes[1, 1].set_xticklabels(axes[1, 1].get_xticklabels(), rotation=0)\n",
    "plt.tight_layout()\n",
    "plt.show()"
   ]
  },
  {
   "cell_type": "markdown",
   "metadata": {},
   "source": [
    "Comments on each of the bar charts:  \n",
    "\n",
    "- **First chart**: Shows the number of people at each of the three experience levels in training: beginner, intermediate, and advanced. It is observed that there are far fewer advanced individuals compared to beginners and intermediates.  \n",
    "\n",
    "- **Second chart**: Provides information about the type of training performed by individuals. The four types are fairly balanced; however, strength and cardio are the most prevalent.  \n",
    "- **Third chart**: Simply shows the number of men and women in the sample. There are more men than women.  \n",
    "- **Fourth chart**: Details the number of days per week each person trains. It is evident that training 3 or 4 days per week is the most common.  "
   ]
  },
  {
   "cell_type": "markdown",
   "metadata": {},
   "source": [
    "## OUTLIERS"
   ]
  },
  {
   "cell_type": "markdown",
   "metadata": {},
   "source": [
    "<div style=\"background-color: blue; padding: 10px; border-radius: 5px;\">\n",
    "    Once we have an idea of how our data behaves, we proceed to detect the outliers in each column. We calculate them numerically for all the variables since it is essential to understand the data we will use to train our model. Additionally, we will represent some variables using box-and-whisker plots.\n",
    "</div>"
   ]
  },
  {
   "cell_type": "markdown",
   "metadata": {},
   "source": [
    "The method chosen to calculate the outliers is *Hampel X84*, which uses the median and the MAD (Mean Absolute Deviation). Points that deviate more than $1.4826 \\times \\theta\\times MAD$ from the median will be considered outliers. We arbitrarily set the value of $\\theta=3$."
   ]
  },
  {
   "cell_type": "code",
   "execution_count": null,
   "metadata": {},
   "outputs": [],
   "source": [
    "from scipy.stats import median_abs_deviation\n",
    "\n",
    "for col in columnas_a_graficar:\n",
    "    columna = df[col]\n",
    "    mediana = columna.median()\n",
    "    MAD = median_abs_deviation(columna)\n",
    "    inferior = mediana -  1.4826*3*MAD\n",
    "    superior = mediana + 1.4826*3*MAD\n",
    "    filtro_outliers_sup = columna > superior\n",
    "    filtro_outliers_inf = columna < inferior\n",
    "    \n",
    "    if columna[filtro_outliers_inf].empty and columna[filtro_outliers_sup].empty:\n",
    "        print(f'La columna {col} no tiene outliers para \\u03B8 = 3')\n",
    "    elif columna[filtro_outliers_inf].empty and not columna[filtro_outliers_sup].empty:\n",
    "        print(f'Los outliers superiores de la columna {col} son:', columna[filtro_outliers_sup].tolist())\n",
    "    elif not columna[filtro_outliers_inf].empty and columna[filtro_outliers_sup].empty:\n",
    "        print(f'Los outliers inferiores de la columna {col} son:', columna[filtro_outliers_inf].tolist())\n",
    "    else:\n",
    "        print(f'Los outliers inferiores de la columna {col} son:', columna[filtro_outliers_inf].tolist())\n",
    "        print(f'Los outliers superiores de la columna {col} son:', columna[filtro_outliers_sup].tolist())\n",
    "\n"
   ]
  },
  {
   "cell_type": "markdown",
   "metadata": {},
   "source": [
    "We observe that many columns do not have outliers. On the other hand, the 'BMI' column has a relatively high number of outliers, possibly because the \\( \\theta \\) value is too restrictive for this variable.\n",
    "\n",
    "Next, we create box-and-whisker plots for the variables that show outliers and for the variable 'Avg_BPM'. Since this type of plot uses the interquartile range method to calculate outliers, more outliers may appear compared to the *Hampel X84* method."
   ]
  },
  {
   "cell_type": "code",
   "execution_count": null,
   "metadata": {},
   "outputs": [],
   "source": [
    "#Graficos de caja y bigotes\n",
    "fig, axes = plt.subplots(2,2,figsize=(12,10))\n",
    "\n",
    "df['Weight (kg)'].plot(kind='box', ax=axes[0,0], figsize=(11,9), boxprops=dict(color='blue'), medianprops=dict(linewidth=2,color='orange'), title='Weight (kg)',\n",
    "                       whiskerprops=dict(color='blue'),capprops=dict(color='blue'))\n",
    "\n",
    "df['Avg_BPM'].plot(kind='box', ax=axes[0,1], boxprops=dict(color='blue'), medianprops=dict(linewidth=2,color='orange'), title='Avg BPM', whiskerprops=dict(color='blue'),capprops=dict(color='blue'))\n",
    "\n",
    "df['Calories_Burned'].plot(kind='box', ax=axes[1,0],boxprops=dict(color='blue'), medianprops=dict(linewidth=2,color='orange'), title='Calories Burned',\n",
    "                           whiskerprops=dict(color='blue'),capprops=dict(color='blue'))\n",
    "\n",
    "df['BMI'].plot(kind='box', ax=axes[1,1],boxprops=dict(color='blue'), medianprops=dict(linewidth=2,color='orange'), title='BMI', whiskerprops=dict(color='blue'),capprops=dict(color='blue'))\n",
    "\n",
    "\n",
    "plt.tight_layout()\n",
    "plt.show()"
   ]
  },
  {
   "cell_type": "markdown",
   "metadata": {},
   "source": [
    "It can be observed that more outliers have appeared than before. For 'Weight', they are very close to the upper limit, so we will not address them. For 'Calories Burned', although some deviate slightly further, we will also leave them untouched. The same applies to 'BMI', which does have some fairly distant outliers, but we will leave them as it is a secondary measure dependent on two independent variables (weight and height) and is not of much use to us.\n",
    "\n",
    "The reason for not addressing the outliers is that they do not seem to result from erroneous measurements but rather from extreme cases of overweight in the case of 'Weight' and 'BMI' (as these variables are correlated). The outliers in 'Calories Burned' are plausible."
   ]
  },
  {
   "cell_type": "markdown",
   "metadata": {},
   "source": [
    "## STATISTICAL TESTS\n"
   ]
  },
  {
   "cell_type": "markdown",
   "metadata": {},
   "source": [
    "<div style=\"background-color: blue; padding: 10px; border-radius: 5px;\">\n",
    "After studying the outliers, we proceed to perform some statistical tests on certain variables. In our DataFrame, we have categorical variables such as 'Gender', 'Exp_Level', 'Workout_Frequency', and 'Workout_Type'. We will analyze how the quantitative variables behave depending on the category they belong to. Later, we will explore the relationships between the categorical variables themselves.\n",
    "</div>"
   ]
  },
  {
   "cell_type": "markdown",
   "metadata": {},
   "source": [
    "First, we will perform a *t-student* test on the categories of 'Gender' (Male/Female) for the variable 'Calories_Burned'. The goal is to determine whether the mean calories burned differ depending on gender."
   ]
  },
  {
   "cell_type": "code",
   "execution_count": null,
   "metadata": {},
   "outputs": [],
   "source": [
    "import scipy.stats as stats\n",
    "\n",
    "calorias_hombres = df[df['Gender'] == 'Male']['Calories_Burned']\n",
    "calorias_mujeres = df[df['Gender'] == 'Female']['Calories_Burned']\n",
    "\n",
    "# Prueba t-student\n",
    "t_stat, p_value = stats.ttest_ind(calorias_hombres, calorias_mujeres, equal_var=True)\n",
    "\n",
    "print(f\"Estadístico t: {t_stat}\")\n",
    "print(f\"Valor p: {p_value}\")\n",
    "alpha=0.05\n",
    "if p_value < alpha:\n",
    "    print(f'Rechazamos la hipótesis nula: hay diferencia significativa entre la media de calorías quemadas.')\n",
    "else:\n",
    "    print(f'No se puede rechazar la hipótesis nula: no hay diferencia significativa entre la media de calorías quemadas.')"
   ]
  },
  {
   "cell_type": "markdown",
   "metadata": {},
   "source": [
    "We conclude that the mean calories burned differ significantly depending on gender.\n",
    "\n",
    "Now, we perform an ANOVA test on the variable 'Calories_Burned' based on the type of workout to determine if all workout types are equal in terms of calorie burning or if there is a difference. The null hypothesis (\\( H_0 \\)) is that the mean calories burned is the same for all workout types. Let's see:"
   ]
  },
  {
   "cell_type": "code",
   "execution_count": null,
   "metadata": {},
   "outputs": [],
   "source": [
    "calorias_fuerza=df[df['Workout_Type']=='Strength']['Calories_Burned']\n",
    "calorias_cardio=df[df['Workout_Type']=='Cardio']['Calories_Burned']\n",
    "calorias_yoga=df[df['Workout_Type']=='Yoga']['Calories_Burned']\n",
    "calorias_hiit=df[df['Workout_Type']=='HIIT']['Calories_Burned']\n",
    "\n",
    "f_stat, p_value = stats.f_oneway(calorias_fuerza, calorias_cardio, calorias_yoga, calorias_hiit)\n",
    "\n",
    "print(f\"Estadístico F: {f_stat}\")\n",
    "print(f\"Valor p: {p_value}\")\n",
    "alpha=0.05\n",
    "if p_value < alpha:\n",
    "    print(f'Rechazamos la hipótesis nula: las medias son significativamente diferentes.')\n",
    "else:\n",
    "    print(f'No se puede rechazar la hipótesis nula: las medias no son significativamente diferentes.')"
   ]
  },
  {
   "cell_type": "markdown",
   "metadata": {},
   "source": [
    "The high $F$ value and the $P > 0.05$ prevent us from rejecting the null hypothesis, meaning there is insufficient evidence to conclude that the mean calories burned differ across workout types."
   ]
  },
  {
   "cell_type": "markdown",
   "metadata": {},
   "source": [
    "Now we perform another ANOVA test between 'Calories_Burned' and 'Experience_Level' to determine whether experience influences calorie burning."
   ]
  },
  {
   "cell_type": "code",
   "execution_count": null,
   "metadata": {},
   "outputs": [],
   "source": [
    "calorias_principiante=df[df['Experience_Level']=='Principiante']['Calories_Burned']\n",
    "calorias_intermedio=df[df['Experience_Level']=='Intermedio']['Calories_Burned']\n",
    "calorias_avanzado=df[df['Experience_Level']=='Avanzado']['Calories_Burned']\n",
    "\n",
    "f_stat, p_value = stats.f_oneway(calorias_principiante, calorias_intermedio, calorias_avanzado)\n",
    "\n",
    "print(f\"Estadístico F: {f_stat}\")\n",
    "print(f\"Valor p: {p_value}\")\n",
    "alpha=0.05\n",
    "if p_value < alpha:\n",
    "    print(f'Rechazamos la hipótesis nula: las medias son significativamente diferentes.')\n",
    "else:\n",
    "    print(f'No se puede rechazar la hipótesis nula: las medias no son significativamente diferentes.')"
   ]
  },
  {
   "cell_type": "markdown",
   "metadata": {},
   "source": [
    "In this case, we can reject the null hypothesis and affirm that the mean calories burned vary significantly depending on the level of experience. However, we do not yet know if there are two groups where it does not vary or if it varies across all three levels."
   ]
  },
  {
   "cell_type": "markdown",
   "metadata": {},
   "source": [
    "To conclude the ANOVA tests, we examine whether the weekly training frequency influences the calories burned per workout. At first glance, they should not be related, but let's see:"
   ]
  },
  {
   "cell_type": "code",
   "execution_count": null,
   "metadata": {},
   "outputs": [],
   "source": [
    "calorias_dos_dias=df[df['Workout_Frequency (days/week)']=='2']['Calories_Burned']\n",
    "calorias_tres_dias=df[df['Workout_Frequency (days/week)']=='3']['Calories_Burned']\n",
    "calorias_cuatro_dias=df[df['Workout_Frequency (days/week)']=='4']['Calories_Burned']\n",
    "calorias_cinco_dias=df[df['Workout_Frequency (days/week)']=='5']['Calories_Burned']\n",
    "\n",
    "f_stat, p_value = stats.f_oneway(calorias_principiante, calorias_intermedio, calorias_avanzado)\n",
    "\n",
    "print(f\"Estadístico F: {f_stat}\")\n",
    "print(f\"Valor p: {p_value}\")\n",
    "alpha=0.05\n",
    "if p_value < alpha:\n",
    "    print(f'Rechazamos la hipótesis nula: las medias son significativamente diferentes.')\n",
    "else:\n",
    "    print(f'No se puede rechazar la hipótesis nula: las medias no son significativamente diferentes.')"
   ]
  },
  {
   "cell_type": "markdown",
   "metadata": {},
   "source": [
    "The result shows that calories burned per workout vary significantly depending on the number of days per week someone trains. We will explore a possible explanation for this later."
   ]
  },
  {
   "cell_type": "markdown",
   "metadata": {},
   "source": [
    "Now we perform a test $\\chi^2$ between all the categorical variables to determine whether there is a significant association between them."
   ]
  },
  {
   "cell_type": "code",
   "execution_count": null,
   "metadata": {},
   "outputs": [],
   "source": [
    "columnas_categoricas=['Gender','Workout_Type','Workout_Frequency (days/week)','Experience_Level']\n",
    "for i, col1 in enumerate(columnas_categoricas):\n",
    "    for col2 in columnas_categoricas[i+1:]:\n",
    "        tabla_contingencia = pd.crosstab(df[col1], df[col2])\n",
    "        chi2_stat, p_value, dof, expected = stats.chi2_contingency(tabla_contingencia)\n",
    "        \n",
    "        print(f'\\nComparando {col1} y {col2}: Estadístico chi-cuadrado: {chi2_stat}, Valor p: {p_value}')\n",
    "        alpha = 0.05\n",
    "        if p_value < alpha:\n",
    "            print(f'Rechazamos la hipótesis nula: Existe una asociación significativa entre {col1} y {col2}.')\n",
    "        else:\n",
    "            print(f'No se puede rechazar la hipótesis nula: No se encontró asociación significativa entre {col1} y {col2}.')\n",
    "        print('----------------------------------------------------------------------------------------------------------------------')"
   ]
  },
  {
   "cell_type": "markdown",
   "metadata": {},
   "source": [
    "As we can see, the only relationship showing a significant association is between 'Weekly Training Frequency' and 'Experience Level'."
   ]
  },
  {
   "cell_type": "markdown",
   "metadata": {},
   "source": [
    "## CORRELATION BETWEEN VARIABLES\n"
   ]
  },
  {
   "cell_type": "markdown",
   "metadata": {},
   "source": [
    "<div style=\"background-color: blue; padding: 10px; border-radius: 5px;\">\n",
    "Next, we proceed to analyze the CORRELATIONS between some variables.\n",
    "</div>"
   ]
  },
  {
   "cell_type": "markdown",
   "metadata": {},
   "source": [
    "We begin by analyzing the correlation between 'Workout_Frequency' and 'Experience_Level', which we previously observed to have a relationship."
   ]
  },
  {
   "cell_type": "code",
   "execution_count": null,
   "metadata": {},
   "outputs": [],
   "source": [
    "#Graficamos un mapa de calor\n",
    "import seaborn as sns\n",
    "\n",
    "tabla_contingencia_new = pd.crosstab(df['Workout_Frequency (days/week)'],df['Experience_Level'])\n",
    "plt.figure(figsize=(10, 8))\n",
    "sns.heatmap(tabla_contingencia_new, annot=True, cmap=\"YlGnBu\", fmt='d')\n",
    "plt.title(\"Heatmap de frecuencias entre Frecuencia de entrenamiento y Nivel de experiencia\")\n",
    "plt.xlabel(\"Nivel de experiencia\")\n",
    "plt.ylabel(\"Frecuencia de entrenamiento\")\n",
    "plt.show()"
   ]
  },
  {
   "cell_type": "markdown",
   "metadata": {},
   "source": [
    "This heatmap illustrates quite well that higher experience levels are associated with higher training frequency (days per week).\n",
    "\n",
    "In the next graph, we show the correlation between session duration and calories burned, separated by gender. It can be observed that the relationship is linear, as expected."
   ]
  },
  {
   "cell_type": "code",
   "execution_count": null,
   "metadata": {},
   "outputs": [],
   "source": [
    "#Gráfico de lineas\n",
    "plt.figure(figsize=(10, 6))\n",
    "sns.lineplot(data=df, x='Session_Duration (hours)', y=\"Calories_Burned\",hue=\"Gender\")\n",
    "plt.title('Calorías quemadas dependiendo la duración del entrenamiento')\n",
    "plt.xlabel('Duración del entrenamiento')\n",
    "plt.ylabel('Calorías quemadas')\n",
    "plt.grid(True)\n",
    "plt.show()"
   ]
  },
  {
   "cell_type": "markdown",
   "metadata": {},
   "source": [
    "Now, we proceed to display several violin and swarm plots for groups of three variables, where two are categorical and one is continuous.\n",
    "\n",
    "The first plot shows calories burned as a function of workout type, classified by gender."
   ]
  },
  {
   "cell_type": "code",
   "execution_count": null,
   "metadata": {},
   "outputs": [],
   "source": [
    "fig=plt.figure(figsize=(9,7))\n",
    "sns.violinplot(data=df,x='Workout_Type',y='Calories_Burned',hue='Gender')\n",
    "plt.xlabel('Tipo de entrenamiento')\n",
    "plt.ylabel('Calorías quemadas')\n",
    "plt.title('Calorías quemadas dependiendo del tipo de entrenamiento y clasificado por género')\n",
    "plt.show()"
   ]
  },
  {
   "cell_type": "markdown",
   "metadata": {},
   "source": [
    "It is observed that calories burned are roughly the same across all workout types except for Yoga, which burns slightly fewer calories (as previously analyzed, now clearly visualized). In all cases, men burn more calories than women. The fact that the \"violins\" show width all the way to the tips indicates that the data is dispersed rather than concentrated around the mean.\n",
    "\n",
    "The next plot shows calories burned as a function of experience level, again divided by gender."
   ]
  },
  {
   "cell_type": "code",
   "execution_count": null,
   "metadata": {},
   "outputs": [],
   "source": [
    "fig=plt.figure(figsize=(9,7))\n",
    "sns.violinplot(data=df,x='Experience_Level',y='Calories_Burned',hue='Gender')\n",
    "plt.xlabel('Nivel de experiencia')\n",
    "plt.ylabel('Calorías quemadas')\n",
    "plt.title('Calorías quemadas dependiendo del nivel de experiencia y clasificado por género')\n",
    "plt.show()"
   ]
  },
  {
   "cell_type": "markdown",
   "metadata": {},
   "source": [
    "It is clear that as the level of experience increases, the calories burned per workout also increase (as we previously observed, there is a significant difference in at least one group). The difference between men and women is only noticeable at the advanced level. In this case, the \"violins\" for the beginner level show a large dispersion of values, while the intermediate and advanced levels are more concentrated around the mean.\n",
    "\n",
    "The next swarm plot shows calories burned as a function of weekly training frequency and experience level. This will help us understand why we previously found that the number of training days per week influences calories burned per workout."
   ]
  },
  {
   "cell_type": "code",
   "execution_count": null,
   "metadata": {},
   "outputs": [],
   "source": [
    "#Gráfico de enjambre\n",
    "fig, ax = plt.subplots(figsize=(10,8))\n",
    "sns.swarmplot(data=df, x=\"Workout_Frequency (days/week)\", y=\"Calories_Burned\",hue='Experience_Level')\n",
    "plt.xlabel('Días de entrenamiento por semana')\n",
    "plt.ylabel('Calorías quemadas')\n",
    "plt.title('Calorías quemadas en función de la frecuencia semanal de entrenamiento y del nivel de experiencia')\n",
    "plt.legend()\n",
    "plt.show()"
   ]
  },
  {
   "cell_type": "markdown",
   "metadata": {},
   "source": [
    "We can see that beginners typically train 2 or 3 days per week; intermediates, 3 or 4; and advanced individuals, 4 or 5. Additionally, as we have just observed, calories burned increase with experience level. Finally, regarding why calories burned are related to weekly training frequency, it is evident that those with higher experience levels train more days per week and also burn more calories per workout. \n",
    "\n",
    "Thus, we conclude that more calories are not burned per workout by training more days per week, but rather due to having a higher experience level."
   ]
  },
  {
   "cell_type": "markdown",
   "metadata": {},
   "source": [
    "Another interesting variable to study is the fat percentage ('Fat_Percentage'). Let’s create two violin plots to observe its behavior."
   ]
  },
  {
   "cell_type": "code",
   "execution_count": null,
   "metadata": {},
   "outputs": [],
   "source": [
    "#Gráfico de violines\n",
    "fig=plt.figure(figsize=(9,7))\n",
    "sns.violinplot(data=df,x='Experience_Level',y='Fat_Percentage',hue='Gender')\n",
    "plt.xlabel('Nivel de experiencia')\n",
    "plt.ylabel('Porcentaje de grasa corporal')\n",
    "plt.title('Porcentaje de grasa corporal dependiendo del nivel de experiencia y clasificado por género')\n",
    "plt.show()"
   ]
  },
  {
   "cell_type": "markdown",
   "metadata": {},
   "source": [
    "This plot clearly shows that individuals with an advanced level have a significantly lower fat percentage compared to those at intermediate and beginner levels, with much less dispersion as well. As expected, the fat percentage is higher in women than in men across all groups, reflecting biological differences. It is also noteworthy that there is no perceptible difference in fat percentage between the intermediate and beginner levels, suggesting that achieving low fat levels requires a substantial amount of time."
   ]
  },
  {
   "cell_type": "code",
   "execution_count": null,
   "metadata": {},
   "outputs": [],
   "source": [
    "#Gráfico de violines\n",
    "fig=plt.figure(figsize=(9,7))\n",
    "sns.violinplot(data=df,x='Workout_Type',y='Fat_Percentage',hue='Experience_Level')\n",
    "plt.xlabel('Nivel de experiencia')\n",
    "plt.ylabel('Porcentaje de grasa corporal')\n",
    "plt.title('Porcentaje de grasa corporal dependiendo del nivel de experiencia y clasificado por género')\n",
    "plt.show()"
   ]
  },
  {
   "cell_type": "markdown",
   "metadata": {},
   "source": [
    "This last plot is also highly significant: first, we observe the previously mentioned difference between experience levels and fat percentage (only advanced individuals show significant differences). Additionally, it is evident that 'HIIT' training yields the best results in terms of fat percentage."
   ]
  },
  {
   "cell_type": "markdown",
   "metadata": {},
   "source": [
    "## REGRESSION MODEL"
   ]
  },
  {
   "cell_type": "markdown",
   "metadata": {},
   "source": [
    "<div style=\"background-color: blue; padding: 10px; border-radius: 5px;\">\n",
    "Finally, we will train a linear regression model to predict the calories burned per workout based on the parameters that have the greatest influence on it.\n",
    "</div>"
   ]
  },
  {
   "cell_type": "markdown",
   "metadata": {},
   "source": [
    "We train the linear regression model using the variables: age, height, weight, experience level, gender, and session duration, as these are the factors that most influence calorie burning."
   ]
  },
  {
   "cell_type": "code",
   "execution_count": null,
   "metadata": {},
   "outputs": [],
   "source": [
    "import statsmodels.api as sm\n",
    "from sklearn.model_selection import train_test_split\n",
    "\n",
    "\n",
    "#Entrenamiento del modelo de regresión\n",
    "X = pd.get_dummies(df[['Age','Height (m)','Weight (kg)','Experience_Level','Gender', 'Session_Duration (hours)']], drop_first=True)\n",
    "X = X.astype(float)\n",
    "X = sm.add_constant(X)\n",
    "y = df['Calories_Burned']\n",
    "\n",
    "X_train, X_test, y_train, y_test = train_test_split(X, y, test_size=0.30)\n",
    "\n",
    "modelo_calorias = sm.OLS(y_train, X_train).fit()  "
   ]
  },
  {
   "cell_type": "markdown",
   "metadata": {},
   "source": [
    "Now that we have trained the model, we test and evaluate it:"
   ]
  },
  {
   "cell_type": "code",
   "execution_count": null,
   "metadata": {},
   "outputs": [],
   "source": [
    "from sklearn.metrics import mean_absolute_error, mean_squared_error\n",
    "\n",
    "#Predicciones del modelo\n",
    "y_pred = modelo_calorias.predict(X_test)\n",
    "\n",
    "#Evaluación del modelo\n",
    "bias = np.mean(y_pred - y_test)\n",
    "mae = mean_absolute_error(y_test, y_pred)\n",
    "rmse = np.sqrt(mean_squared_error(y_test, y_pred))\n",
    "rmse_normalizado = rmse / (np.max(y_test) - np.min(y_test))\n",
    "\n",
    "predicciones= pd.DataFrame(y_pred, columns=['Calorías quemadas predichas'])\n",
    "print(f'BIAS: {bias}, MAE: {mae}, RMSE: {rmse}, RMSE normalizado: {rmse_normalizado}')\n",
    "print(predicciones.head(5))"
   ]
  },
  {
   "cell_type": "markdown",
   "metadata": {},
   "source": [
    "We see that the normalized mean squared error is quite low, indicating that the model fits the data well.\n",
    "\n",
    "Now, we obtain the model equation to identify which parameters have the most influence."
   ]
  },
  {
   "cell_type": "code",
   "execution_count": null,
   "metadata": {},
   "outputs": [],
   "source": [
    "coeficientes = modelo_calorias.params\n",
    "print(coeficientes)"
   ]
  },
  {
   "cell_type": "markdown",
   "metadata": {},
   "source": [
    "We see that the variables with the most influence are session duration, gender, and height.\n",
    "\n",
    "To conclude, we represent the results. We choose the variables 'Height (m)' and 'Session Duration', as the 'Gender' variable, although it has more influence than 'Height (m)', does not represent well due to being 0 or 1."
   ]
  },
  {
   "cell_type": "code",
   "execution_count": null,
   "metadata": {},
   "outputs": [],
   "source": [
    "import plotly.graph_objects as go\n",
    "\n",
    "\n",
    "# Crear los puntos para la recta de regresión\n",
    "rango_altura = np.linspace(df['Height (m)'].min(), df['Height (m)'].max(), 20)\n",
    "rango_duracion = np.linspace(df['Session_Duration (hours)'].min(), df['Session_Duration (hours)'].max(), 20)\n",
    "altura_grid, duracion_grid = np.meshgrid(rango_altura, rango_duracion)\n",
    "\n",
    "\n",
    "# Extraer específicamente los coeficientes deseados\n",
    "alpha = coeficientes['const']  \n",
    "coef_altura = coeficientes['Height (m)']\n",
    "coef_duracion = coeficientes['Session_Duration (hours)']  \n",
    "calories_pred = alpha + coef_altura * altura_grid + coef_duracion * duracion_grid\n",
    "\n",
    "\n",
    "# Crear la figura conp plotly\n",
    "fig = go.Figure()\n",
    "\n",
    "# Agregar puntos de datos originales\n",
    "fig.add_trace(go.Scatter3d(\n",
    "    x=df['Height (m)'],\n",
    "    y=df['Session_Duration (hours)'],\n",
    "    z=df['Calories_Burned'],\n",
    "    mode='markers',\n",
    "    marker=dict(size=5, color='blue', opacity=0.8),\n",
    "    name=\"Datos originales\"\n",
    "))\n",
    "\n",
    "# Agregar la superficie de la recta de regresión\n",
    "fig.add_trace(go.Surface(\n",
    "    x=rango_altura,\n",
    "    y=rango_duracion,\n",
    "    z=calories_pred,\n",
    "    colorscale=\"viridis\",\n",
    "    opacity=0.5,\n",
    "    name=\"Recta de regresión\"\n",
    "))\n",
    "\n",
    "# Configurar el diseño del gráfico\n",
    "fig.update_layout(\n",
    "    title=\"Regresión Lineal en 3D\",\n",
    "    scene=dict(\n",
    "        xaxis_title=\"x - Altura (m)\",\n",
    "        yaxis_title=\"y - Duración de la sesión (horas) \",\n",
    "        zaxis_title=\"z- Calorías quemadas\"\n",
    "\n",
    "    ),\n",
    "    width=900,  # Ancho de la figura\n",
    "    height=700  # Altura de la figura\n",
    ")\n",
    "\n",
    "# Mostrar el gráfico\n",
    "fig.show()"
   ]
  },
  {
   "cell_type": "markdown",
   "metadata": {},
   "source": [
    "## CONCLUSIONS"
   ]
  },
  {
   "cell_type": "markdown",
   "metadata": {},
   "source": [
    "To conclude, the following findings on calorie burning have been presented:\n",
    "\n",
    "- The type of training does not influence calorie burning.  \n",
    "- The level of experience does influence calorie burning (the more experience, the higher the calorie burn).  \n",
    "- The duration of the training session does influence calorie burning (longer sessions result in more calories burned).  \n",
    "- Biological factors such as gender and height significantly affect calorie burning, especially gender, where men burn considerably more calories than women.  \n",
    "- Weight and age have little impact on calorie burning.\n",
    "\n"
   ]
  }
 ],
 "metadata": {
  "kernelspec": {
   "display_name": "Python 3",
   "language": "python",
   "name": "python3"
  },
  "language_info": {
   "codemirror_mode": {
    "name": "ipython",
    "version": 3
   },
   "file_extension": ".py",
   "mimetype": "text/x-python",
   "name": "python",
   "nbconvert_exporter": "python",
   "pygments_lexer": "ipython3",
   "version": "3.12.2"
  },
  "orig_nbformat": 4
 },
 "nbformat": 4,
 "nbformat_minor": 2
}
